{
 "cells": [
  {
   "cell_type": "markdown",
   "metadata": {},
   "source": [
    "___\n",
    "# Análise Exploratória: Tipos de Variáveis e Medidas Resumo\n",
    "\n",
    "## Aula 02 - Atividade\n",
    "___"
   ]
  },
  {
   "cell_type": "markdown",
   "metadata": {},
   "source": [
    "## Índice\n",
    "\n",
    "- [Empresa de TV](#empresa-de-tv)\n",
    "    - [Tipos de variáveis](#tipos-de-variaveis)\n",
    "    - [Exercício 1](#ex1)\n",
    "- [Definindo as variáveis qualitativas como categóricas](#definindo-as-variaveis-qualitativas-como-categoricas)\n",
    "- [Montando tabelas de frequências](#montando-tabelas-de-frequencias)\n",
    "    - [Exercício 2](#ex2)\n",
    "    - [Exercício 3](#ex3)\n",
    "    - [Exercício 4](#ex4)\n",
    "- [Tabelas cruzadas entre variáveis qualitativas](#tabelas-cruzadas-entre-variaveis-qualitativas)\n",
    "    - [Exercício 5](#ex5)\n",
    "    - [Exercício 6](#ex6)\n",
    "- [Medidas resumo](#medidas-resumo)\n",
    "    - [Exercício 7](#ex7)\n",
    "    - [Exercício 8](#ex8)\n",
    "    - [Exercício 9](#ex9)\n",
    "    - [Exercício 10](#ex10)\n",
    "    - [Exercício 11](#ex11)\n",
    "- [Lista de comandos utilizados neste notebook](#comandos)\n",
    "\n",
    "\n",
    "___"
   ]
  },
  {
   "cell_type": "markdown",
   "metadata": {},
   "source": [
    "<div id=\"empresa-de-tv\"></div>\n",
    "\n",
    "## Empresa de TV\n",
    "\n",
    "Uma empresa de TV via satélite criou recentemente dois tipos de planos de canais (A e B).\n",
    "\n",
    "A empresa tem como objetivo estudar o perfil dos clientes que aderiram ao plano para enviar malas diretas aos potenciais clientes de cada tipo de plano.\n",
    "\n",
    "A base de dados apresenta algumas variáveis para uma amostra de 82 clientes selecionados aleatoriamente dentre aqueles que aderiram aos planos. As variáveis têm os seguintes significados:\n",
    "\n",
    "* CLIENTE: identificador do cliente.\n",
    "* PLANO: apresenta o plano adquirido pelo cliente – (1=A ou 2=B). \n",
    "* EC: apresenta estado civil do cliente no momento da adesão ao  plano – (1=Casado, 2=Solteiro e 3=Outros).\n",
    "* SATISFACAO: grau de satisfação do cliente pelo plano – \n",
    "\t(5=Muito satisfeito, 4=Satisfeito, 3=Indiferente, 2=Insatisfeito e 1=Muito insatisfeito).\n",
    "* RENDA: renda pessoal do cliente, em milhares de reais.\n",
    "\n",
    "O arquivo `EmpresaTV Cod.xlsx` contém as variáveis descritas acima.\n"
   ]
  },
  {
   "cell_type": "markdown",
   "metadata": {},
   "source": [
    "<div id=\"tipos-de-variaveis\"></div>\n",
    "\n",
    "### Tipos de variáveis\n",
    "\n",
    "Antes de olhar os dados, vamos refletir sobre os tipos de cada variável disponível. Lembrando que temos:\n",
    "\n",
    "- Variáveis qualitativas (ou categóricas):\n",
    "    - Nominal\n",
    "    - Ordinal\n",
    "- Variáveis quantitativas (ou numéricas):\n",
    "    - Discreta\n",
    "    - Contínua"
   ]
  },
  {
   "cell_type": "markdown",
   "metadata": {},
   "source": [
    "<div id=\"ex1\"></div>\n",
    "\n",
    "### EXERCÍCIO 1:\n",
    "\n",
    "Classifique cada uma das variáveis disponíveis <font color=\"red\">(modifique esta célula)</font>:\n",
    "\n",
    "- PLANO: [Qualitativa nominal]\n",
    "- EC: [Qualtaiva nominal]\n",
    "- SATISFACAO: [Qualitativa ordinal]\n",
    "- RENDA: [Quantitativa continua]"
   ]
  },
  {
   "cell_type": "markdown",
   "metadata": {},
   "source": [
    "___\n",
    "Agora sim, vamos carregar os dados do arquivo:"
   ]
  },
  {
   "cell_type": "code",
   "execution_count": 5,
   "metadata": {},
   "outputs": [],
   "source": [
    "%matplotlib inline\n",
    "import pandas as pd\n",
    "import os"
   ]
  },
  {
   "cell_type": "code",
   "execution_count": 6,
   "metadata": {},
   "outputs": [
    {
     "name": "stdout",
     "output_type": "stream",
     "text": [
      "Esperamos trabalhar no diretório\n",
      "C:\\Users\\Jean Silas\\Desktop\\Ciencia dos dados\\CD20-2\\aula02\n"
     ]
    }
   ],
   "source": [
    "# Listando o diretório de trabalho. Lembre-se que o arquivo com a base de dados precisa estar neste diretório.\n",
    "print('Esperamos trabalhar no diretório')\n",
    "print(os.getcwd())"
   ]
  },
  {
   "cell_type": "code",
   "execution_count": 7,
   "metadata": {},
   "outputs": [],
   "source": [
    "# Carregando os dados do arquivo\n",
    "dados = pd.read_excel('EmpresaTV Cod.xlsx')"
   ]
  },
  {
   "cell_type": "code",
   "execution_count": 8,
   "metadata": {},
   "outputs": [
    {
     "data": {
      "text/html": [
       "<div>\n",
       "<style scoped>\n",
       "    .dataframe tbody tr th:only-of-type {\n",
       "        vertical-align: middle;\n",
       "    }\n",
       "\n",
       "    .dataframe tbody tr th {\n",
       "        vertical-align: top;\n",
       "    }\n",
       "\n",
       "    .dataframe thead th {\n",
       "        text-align: right;\n",
       "    }\n",
       "</style>\n",
       "<table border=\"1\" class=\"dataframe\">\n",
       "  <thead>\n",
       "    <tr style=\"text-align: right;\">\n",
       "      <th></th>\n",
       "      <th>CLIENTE</th>\n",
       "      <th>PLANO</th>\n",
       "      <th>EC</th>\n",
       "      <th>SATISFACAO</th>\n",
       "      <th>RENDA</th>\n",
       "    </tr>\n",
       "  </thead>\n",
       "  <tbody>\n",
       "    <tr>\n",
       "      <td>0</td>\n",
       "      <td>1</td>\n",
       "      <td>1</td>\n",
       "      <td>1</td>\n",
       "      <td>5</td>\n",
       "      <td>21.4</td>\n",
       "    </tr>\n",
       "    <tr>\n",
       "      <td>1</td>\n",
       "      <td>2</td>\n",
       "      <td>1</td>\n",
       "      <td>2</td>\n",
       "      <td>5</td>\n",
       "      <td>17.2</td>\n",
       "    </tr>\n",
       "    <tr>\n",
       "      <td>2</td>\n",
       "      <td>3</td>\n",
       "      <td>1</td>\n",
       "      <td>3</td>\n",
       "      <td>5</td>\n",
       "      <td>15.6</td>\n",
       "    </tr>\n",
       "    <tr>\n",
       "      <td>3</td>\n",
       "      <td>4</td>\n",
       "      <td>1</td>\n",
       "      <td>1</td>\n",
       "      <td>4</td>\n",
       "      <td>10.4</td>\n",
       "    </tr>\n",
       "    <tr>\n",
       "      <td>4</td>\n",
       "      <td>5</td>\n",
       "      <td>1</td>\n",
       "      <td>2</td>\n",
       "      <td>5</td>\n",
       "      <td>17.6</td>\n",
       "    </tr>\n",
       "  </tbody>\n",
       "</table>\n",
       "</div>"
      ],
      "text/plain": [
       "   CLIENTE  PLANO  EC  SATISFACAO  RENDA\n",
       "0        1      1   1           5   21.4\n",
       "1        2      1   2           5   17.2\n",
       "2        3      1   3           5   15.6\n",
       "3        4      1   1           4   10.4\n",
       "4        5      1   2           5   17.6"
      ]
     },
     "execution_count": 8,
     "metadata": {},
     "output_type": "execute_result"
    }
   ],
   "source": [
    "# Visualizando as primeiras linhas\n",
    "dados.head()"
   ]
  },
  {
   "cell_type": "markdown",
   "metadata": {},
   "source": [
    "<div id=\"definindo-as-variaveis-qualitativas-como-categoricas\"></div>\n",
    "\n",
    "## Definindo as variáveis qualitativas como categóricas\n",
    "\n",
    "No [primeiro exercício](#ex1) você deve ter identificado as variáveis PLANO, EC e SATISFACAO como qualitativas (ou categóricas). O pandas não tem como saber dessa informação ao carregar os dados, então precisamos modificar as colunas explicitamente.\n",
    "\n",
    "<div id=\"astype\"></div>\n",
    "\n",
    "A função `.astype` devolve uma cópia da coluna (`Series`) convertida para o tipo desejado. Por exemplo, para transformar uma coluna em categórica devemos utilizar `.astype('category')`."
   ]
  },
  {
   "cell_type": "code",
   "execution_count": 1,
   "metadata": {},
   "outputs": [
    {
     "ename": "NameError",
     "evalue": "name 'dados' is not defined",
     "output_type": "error",
     "traceback": [
      "\u001b[1;31m---------------------------------------------------------------------------\u001b[0m",
      "\u001b[1;31mNameError\u001b[0m                                 Traceback (most recent call last)",
      "\u001b[1;32m<ipython-input-1-d84efccfbb54>\u001b[0m in \u001b[0;36m<module>\u001b[1;34m\u001b[0m\n\u001b[1;32m----> 1\u001b[1;33m \u001b[0mdados\u001b[0m\u001b[1;33m[\u001b[0m\u001b[1;34m'PLANO'\u001b[0m\u001b[1;33m]\u001b[0m \u001b[1;33m=\u001b[0m \u001b[0mdados\u001b[0m\u001b[1;33m[\u001b[0m\u001b[1;34m'PLANO'\u001b[0m\u001b[1;33m]\u001b[0m\u001b[1;33m.\u001b[0m\u001b[0mastype\u001b[0m\u001b[1;33m(\u001b[0m\u001b[1;34m'category'\u001b[0m\u001b[1;33m)\u001b[0m\u001b[1;33m\u001b[0m\u001b[1;33m\u001b[0m\u001b[0m\n\u001b[0m\u001b[0;32m      2\u001b[0m \u001b[0mdados\u001b[0m\u001b[1;33m[\u001b[0m\u001b[1;34m'EC'\u001b[0m\u001b[1;33m]\u001b[0m \u001b[1;33m=\u001b[0m \u001b[0mdados\u001b[0m\u001b[1;33m[\u001b[0m\u001b[1;34m'EC'\u001b[0m\u001b[1;33m]\u001b[0m\u001b[1;33m.\u001b[0m\u001b[0mastype\u001b[0m\u001b[1;33m(\u001b[0m\u001b[1;34m'category'\u001b[0m\u001b[1;33m)\u001b[0m\u001b[1;33m\u001b[0m\u001b[1;33m\u001b[0m\u001b[0m\n\u001b[0;32m      3\u001b[0m \u001b[0mdados\u001b[0m\u001b[1;33m[\u001b[0m\u001b[1;34m'SATISFACAO'\u001b[0m\u001b[1;33m]\u001b[0m \u001b[1;33m=\u001b[0m \u001b[0mdados\u001b[0m\u001b[1;33m[\u001b[0m\u001b[1;34m'SATISFACAO'\u001b[0m\u001b[1;33m]\u001b[0m\u001b[1;33m.\u001b[0m\u001b[0mastype\u001b[0m\u001b[1;33m(\u001b[0m\u001b[1;34m'category'\u001b[0m\u001b[1;33m)\u001b[0m\u001b[1;33m\u001b[0m\u001b[1;33m\u001b[0m\u001b[0m\n\u001b[0;32m      4\u001b[0m \u001b[1;31m# A próxima linha é desnecessária, pois a coluna já era do tipo float, mas\u001b[0m\u001b[1;33m\u001b[0m\u001b[1;33m\u001b[0m\u001b[1;33m\u001b[0m\u001b[0m\n\u001b[0;32m      5\u001b[0m \u001b[1;31m# queremos mostrar que é possível utilizar outros tipos.\u001b[0m\u001b[1;33m\u001b[0m\u001b[1;33m\u001b[0m\u001b[1;33m\u001b[0m\u001b[0m\n",
      "\u001b[1;31mNameError\u001b[0m: name 'dados' is not defined"
     ]
    }
   ],
   "source": [
    "dados['PLANO'] = dados['PLANO'].astype('category')\n",
    "dados['EC'] = dados['EC'].astype('category')\n",
    "dados['SATISFACAO'] = dados['SATISFACAO'].astype('category')\n",
    "# A próxima linha é desnecessária, pois a coluna já era do tipo float, mas \n",
    "# queremos mostrar que é possível utilizar outros tipos.\n",
    "dados['RENDA'] = dados['RENDA'].astype('float')"
   ]
  },
  {
   "cell_type": "markdown",
   "metadata": {},
   "source": [
    "O uso de códigos numéricos é útil para determinadas finalidades, mas pode dificultar a compreensão. Vamos substituir os códigos numéricos pelos respectivos nomes.\n",
    "\n",
    "<div id=\"categories\"></div>\n",
    "\n",
    "Agora que transformamos as colunas qualitativas em categóricas, podemos listar as categorias com `.cat.categories`:"
   ]
  },
  {
   "cell_type": "code",
   "execution_count": 19,
   "metadata": {},
   "outputs": [
    {
     "data": {
      "text/plain": [
       "Index(['Muito Insatisfeito', 'Insatisfeito', 'Indiferente', 'Satisfeito',\n",
       "       'Muito Satisfeito'],\n",
       "      dtype='object')"
      ]
     },
     "execution_count": 19,
     "metadata": {},
     "output_type": "execute_result"
    }
   ],
   "source": [
    "# Exemplo com a coluna SATISFACAO\n",
    "dados['SATISFACAO'].cat.categories"
   ]
  },
  {
   "cell_type": "markdown",
   "metadata": {},
   "source": [
    "<div id=\"satisfacao-categoria\"></div>\n",
    "\n",
    "Podemos substituir os códigos todos de uma vez da seguinte maneira:"
   ]
  },
  {
   "cell_type": "code",
   "execution_count": 18,
   "metadata": {},
   "outputs": [
    {
     "data": {
      "text/plain": [
       "Index(['Muito Insatisfeito', 'Insatisfeito', 'Indiferente', 'Satisfeito',\n",
       "       'Muito Satisfeito'],\n",
       "      dtype='object')"
      ]
     },
     "execution_count": 18,
     "metadata": {},
     "output_type": "execute_result"
    }
   ],
   "source": [
    "# Exemplo com a coluna SATISFACAO\n",
    "dados['SATISFACAO'].cat.categories = ['Muito Insatisfeito', 'Insatisfeito', 'Indiferente', 'Satisfeito', 'Muito Satisfeito']\n",
    "\n",
    "# Visualizando o resultado\n",
    "dados['SATISFACAO'].cat.categories"
   ]
  },
  {
   "cell_type": "markdown",
   "metadata": {},
   "source": [
    "Note que essa ação atualiza todos os valores da coluna no `DataFrame`:"
   ]
  },
  {
   "cell_type": "code",
   "execution_count": 8,
   "metadata": {},
   "outputs": [
    {
     "data": {
      "text/plain": [
       "0    Muito Satisfeito\n",
       "1    Muito Satisfeito\n",
       "2    Muito Satisfeito\n",
       "3          Satisfeito\n",
       "4    Muito Satisfeito\n",
       "5          Satisfeito\n",
       "6    Muito Satisfeito\n",
       "7          Satisfeito\n",
       "8          Satisfeito\n",
       "9    Muito Satisfeito\n",
       "Name: SATISFACAO, dtype: category\n",
       "Categories (5, object): [Muito Insatisfeito, Insatisfeito, Indiferente, Satisfeito, Muito Satisfeito]"
      ]
     },
     "execution_count": 8,
     "metadata": {},
     "output_type": "execute_result"
    }
   ],
   "source": [
    "dados['SATISFACAO'].head(10)"
   ]
  },
  {
   "cell_type": "markdown",
   "metadata": {},
   "source": [
    "Vamos fazer o mesmo para as outras colunas:"
   ]
  },
  {
   "cell_type": "code",
   "execution_count": 17,
   "metadata": {},
   "outputs": [
    {
     "data": {
      "text/html": [
       "<div>\n",
       "<style scoped>\n",
       "    .dataframe tbody tr th:only-of-type {\n",
       "        vertical-align: middle;\n",
       "    }\n",
       "\n",
       "    .dataframe tbody tr th {\n",
       "        vertical-align: top;\n",
       "    }\n",
       "\n",
       "    .dataframe thead th {\n",
       "        text-align: right;\n",
       "    }\n",
       "</style>\n",
       "<table border=\"1\" class=\"dataframe\">\n",
       "  <thead>\n",
       "    <tr style=\"text-align: right;\">\n",
       "      <th></th>\n",
       "      <th>CLIENTE</th>\n",
       "      <th>PLANO</th>\n",
       "      <th>EC</th>\n",
       "      <th>SATISFACAO</th>\n",
       "      <th>RENDA</th>\n",
       "    </tr>\n",
       "  </thead>\n",
       "  <tbody>\n",
       "    <tr>\n",
       "      <td>0</td>\n",
       "      <td>1</td>\n",
       "      <td>A</td>\n",
       "      <td>Casado</td>\n",
       "      <td>5</td>\n",
       "      <td>21.4</td>\n",
       "    </tr>\n",
       "    <tr>\n",
       "      <td>1</td>\n",
       "      <td>2</td>\n",
       "      <td>A</td>\n",
       "      <td>Solteiro</td>\n",
       "      <td>5</td>\n",
       "      <td>17.2</td>\n",
       "    </tr>\n",
       "    <tr>\n",
       "      <td>2</td>\n",
       "      <td>3</td>\n",
       "      <td>A</td>\n",
       "      <td>Outros</td>\n",
       "      <td>5</td>\n",
       "      <td>15.6</td>\n",
       "    </tr>\n",
       "    <tr>\n",
       "      <td>3</td>\n",
       "      <td>4</td>\n",
       "      <td>A</td>\n",
       "      <td>Casado</td>\n",
       "      <td>4</td>\n",
       "      <td>10.4</td>\n",
       "    </tr>\n",
       "    <tr>\n",
       "      <td>4</td>\n",
       "      <td>5</td>\n",
       "      <td>A</td>\n",
       "      <td>Solteiro</td>\n",
       "      <td>5</td>\n",
       "      <td>17.6</td>\n",
       "    </tr>\n",
       "    <tr>\n",
       "      <td>5</td>\n",
       "      <td>6</td>\n",
       "      <td>A</td>\n",
       "      <td>Outros</td>\n",
       "      <td>4</td>\n",
       "      <td>9.8</td>\n",
       "    </tr>\n",
       "    <tr>\n",
       "      <td>6</td>\n",
       "      <td>7</td>\n",
       "      <td>A</td>\n",
       "      <td>Casado</td>\n",
       "      <td>5</td>\n",
       "      <td>13.5</td>\n",
       "    </tr>\n",
       "    <tr>\n",
       "      <td>7</td>\n",
       "      <td>8</td>\n",
       "      <td>A</td>\n",
       "      <td>Solteiro</td>\n",
       "      <td>4</td>\n",
       "      <td>7.8</td>\n",
       "    </tr>\n",
       "    <tr>\n",
       "      <td>8</td>\n",
       "      <td>9</td>\n",
       "      <td>A</td>\n",
       "      <td>Casado</td>\n",
       "      <td>4</td>\n",
       "      <td>14.4</td>\n",
       "    </tr>\n",
       "    <tr>\n",
       "      <td>9</td>\n",
       "      <td>10</td>\n",
       "      <td>A</td>\n",
       "      <td>Casado</td>\n",
       "      <td>5</td>\n",
       "      <td>11.2</td>\n",
       "    </tr>\n",
       "  </tbody>\n",
       "</table>\n",
       "</div>"
      ],
      "text/plain": [
       "   CLIENTE PLANO        EC SATISFACAO  RENDA\n",
       "0        1     A    Casado          5   21.4\n",
       "1        2     A  Solteiro          5   17.2\n",
       "2        3     A    Outros          5   15.6\n",
       "3        4     A    Casado          4   10.4\n",
       "4        5     A  Solteiro          5   17.6\n",
       "5        6     A    Outros          4    9.8\n",
       "6        7     A    Casado          5   13.5\n",
       "7        8     A  Solteiro          4    7.8\n",
       "8        9     A    Casado          4   14.4\n",
       "9       10     A    Casado          5   11.2"
      ]
     },
     "execution_count": 17,
     "metadata": {},
     "output_type": "execute_result"
    }
   ],
   "source": [
    "dados['PLANO'].cat.categories = ['A', 'B']\n",
    "dados['EC'].cat.categories = ['Casado', 'Solteiro', 'Outros']\n",
    "\n",
    "# Visualizando o resultado\n",
    "dados.head(10)"
   ]
  },
  {
   "cell_type": "markdown",
   "metadata": {},
   "source": [
    "---\n",
    "\n",
    "<div id=\"ordered\"></div>\n",
    "\n",
    "## Nominal versus ordinal\n",
    "\n",
    "Já definimos que as variáveis PLANO, EC e SATISFACAO são categóricas ou qualitativas. Porém, como definir no Pandas se essas variáveis são nominais (onde não existe uma ordenação natural) ou ordinais (em que existe ordenação)?\n",
    "\n",
    "A informação de que uma variável categórica deve ser nominal ou ordinal está no atributo `.cat.ordered` da variável. Por padrão, quando definimos que uma variável é categórica o Pandas supõe que seja nominal (sem ordem). Confira:"
   ]
  },
  {
   "cell_type": "code",
   "execution_count": 10,
   "metadata": {},
   "outputs": [
    {
     "data": {
      "text/plain": [
       "False"
      ]
     },
     "execution_count": 10,
     "metadata": {},
     "output_type": "execute_result"
    }
   ],
   "source": [
    "dados['PLANO'].cat.ordered"
   ]
  },
  {
   "cell_type": "code",
   "execution_count": 11,
   "metadata": {},
   "outputs": [
    {
     "data": {
      "text/plain": [
       "False"
      ]
     },
     "execution_count": 11,
     "metadata": {},
     "output_type": "execute_result"
    }
   ],
   "source": [
    "dados['EC'].cat.ordered"
   ]
  },
  {
   "cell_type": "code",
   "execution_count": 12,
   "metadata": {},
   "outputs": [
    {
     "data": {
      "text/plain": [
       "False"
      ]
     },
     "execution_count": 12,
     "metadata": {},
     "output_type": "execute_result"
    }
   ],
   "source": [
    "dados['SATISFACAO'].cat.ordered"
   ]
  },
  {
   "cell_type": "markdown",
   "metadata": {},
   "source": [
    "Contudo, a variável SATISFACAO é ordinal! Para converter esta variável de nominal para ordinal devemos usar o comando `.as_ordered()`:"
   ]
  },
  {
   "cell_type": "code",
   "execution_count": 11,
   "metadata": {},
   "outputs": [],
   "source": [
    "dados['SATISFACAO'] = dados['SATISFACAO'].cat.as_ordered()"
   ]
  },
  {
   "cell_type": "code",
   "execution_count": 14,
   "metadata": {},
   "outputs": [
    {
     "data": {
      "text/plain": [
       "True"
      ]
     },
     "execution_count": 14,
     "metadata": {},
     "output_type": "execute_result"
    }
   ],
   "source": [
    "dados['SATISFACAO'].cat.ordered"
   ]
  },
  {
   "cell_type": "code",
   "execution_count": 15,
   "metadata": {},
   "outputs": [
    {
     "data": {
      "text/plain": [
       "0    Muito Satisfeito\n",
       "1    Muito Satisfeito\n",
       "2    Muito Satisfeito\n",
       "3          Satisfeito\n",
       "4    Muito Satisfeito\n",
       "5          Satisfeito\n",
       "6    Muito Satisfeito\n",
       "7          Satisfeito\n",
       "8          Satisfeito\n",
       "9    Muito Satisfeito\n",
       "Name: SATISFACAO, dtype: category\n",
       "Categories (5, object): [Muito Insatisfeito < Insatisfeito < Indiferente < Satisfeito < Muito Satisfeito]"
      ]
     },
     "execution_count": 15,
     "metadata": {},
     "output_type": "execute_result"
    }
   ],
   "source": [
    "dados['SATISFACAO'].head(10)"
   ]
  },
  {
   "cell_type": "markdown",
   "metadata": {},
   "source": [
    "Observe que agora nosso relatório do comando `.head()` informa que 'Muito insatisfeito' vem antes de 'Insatisfeito', etc."
   ]
  },
  {
   "cell_type": "markdown",
   "metadata": {},
   "source": [
    "<div id=\"montando-tabelas-de-frequencias\"></div>\n",
    "\n",
    "___\n",
    "## Montando tabelas de frequências\n",
    "\n",
    "Agora estamos prontos para começar nossa análise. Uma primeira pergunta que podemos nos fazer é: dos 82 clientes selecionados, quantos aderiram ao plano A e quantos aderiram ao plano B? Para isso podemos utilizar uma tabela de frequências.\n",
    "\n",
    "<div id=\"value_counts\"></div>\n",
    "\n",
    "A função `.value_counts` pode ser utilizada para montar a tabela de frequências **de uma coluna**."
   ]
  },
  {
   "cell_type": "code",
   "execution_count": 16,
   "metadata": {},
   "outputs": [
    {
     "data": {
      "text/plain": [
       "A    46\n",
       "B    36\n",
       "Name: PLANO, dtype: int64"
      ]
     },
     "execution_count": 16,
     "metadata": {},
     "output_type": "execute_result"
    }
   ],
   "source": [
    "dados['PLANO'].value_counts()"
   ]
  },
  {
   "cell_type": "markdown",
   "metadata": {},
   "source": [
    "<div id=\"ex2\"></div>\n",
    "\n",
    "### EXERCÍCIO 2:\n",
    "\n",
    "Na célula acima obtivemos a tabela de frequências absoluta. Pesquise na documentação da função `value_counts` (deve ser o primeiro resultado ao buscar por \"pandas value_counts\" em sua engine de busca de preferência) como obter a tabela de frequências relativas.\n",
    "\n",
    "**DICA:** Não feche a documentação da função `value_counts`. Você ainda vai precisar dela."
   ]
  },
  {
   "cell_type": "code",
   "execution_count": 12,
   "metadata": {},
   "outputs": [
    {
     "data": {
      "text/plain": [
       "1    56.1\n",
       "2    43.9\n",
       "Name: PLANO, dtype: float64"
      ]
     },
     "execution_count": 12,
     "metadata": {},
     "output_type": "execute_result"
    }
   ],
   "source": [
    "# Coloque seu código aqui\n",
    "(100*dados['PLANO'].value_counts(normalize=True)).round(decimals=2)"
   ]
  },
  {
   "cell_type": "markdown",
   "metadata": {},
   "source": [
    "...\n",
    "\n",
    "Queremos saber quantos clientes se enquadram em cada um dos graus de satisfação. Já sabemos que podemos utilizar a função `value_counts`:"
   ]
  },
  {
   "cell_type": "code",
   "execution_count": 17,
   "metadata": {},
   "outputs": [
    {
     "data": {
      "text/plain": [
       "Satisfeito            27\n",
       "Indiferente           19\n",
       "Insatisfeito          16\n",
       "Muito Satisfeito      12\n",
       "Muito Insatisfeito     8\n",
       "Name: SATISFACAO, dtype: int64"
      ]
     },
     "execution_count": 17,
     "metadata": {},
     "output_type": "execute_result"
    }
   ],
   "source": [
    "dados['SATISFACAO'].value_counts()"
   ]
  },
  {
   "cell_type": "markdown",
   "metadata": {},
   "source": [
    "<div id=\"ex3\"></div>\n",
    "\n",
    "### EXERCÍCIO 3:\n",
    "\n",
    "A tabela de frequências absolutas acima nos dá a informação que precisamos, mas a ordem dos graus de satisfação dificulta a compreensão. Procure na documentação:\n",
    "\n",
    "1. Por que a tabela foi apresentada nessa ordem;\n",
    "1. Como fazer para não utilizar essa ordem (e utilizar a [ordem definida nas categorias](#satisfacao-categoria));\n",
    "1. Escreva na célula abaixo o código que mostra a tabela de frequências **relativas** na ordem desejada."
   ]
  },
  {
   "cell_type": "code",
   "execution_count": 16,
   "metadata": {},
   "outputs": [
    {
     "data": {
      "text/plain": [
       "1     9.8\n",
       "2    19.5\n",
       "3    23.2\n",
       "4    32.9\n",
       "5    14.6\n",
       "Name: SATISFACAO, dtype: float64"
      ]
     },
     "execution_count": 16,
     "metadata": {},
     "output_type": "execute_result"
    }
   ],
   "source": [
    "# Coloque seu código aqui\n",
    "(100*dados['SATISFACAO'].value_counts(sort=False,normalize=True)).round(decimals=1)"
   ]
  },
  {
   "cell_type": "markdown",
   "metadata": {},
   "source": [
    "---\n",
    "\n",
    "Vamos ver o que acontece ao tentarmos montar a tabela de frequências da variável RENDA:"
   ]
  },
  {
   "cell_type": "code",
   "execution_count": 28,
   "metadata": {},
   "outputs": [
    {
     "data": {
      "text/plain": [
       "4.9     3\n",
       "5.4     2\n",
       "2.5     2\n",
       "13.2    2\n",
       "0.8     2\n",
       "       ..\n",
       "14.8    1\n",
       "6.8     1\n",
       "4.2     1\n",
       "5.7     1\n",
       "13.5    1\n",
       "Name: RENDA, Length: 68, dtype: int64"
      ]
     },
     "execution_count": 28,
     "metadata": {},
     "output_type": "execute_result"
    }
   ],
   "source": [
    "dados['RENDA'].value_counts()"
   ]
  },
  {
   "cell_type": "markdown",
   "metadata": {},
   "source": [
    "Deu ruim!"
   ]
  },
  {
   "cell_type": "markdown",
   "metadata": {},
   "source": [
    "<div id=\"ex4\"></div>\n",
    "\n",
    "### EXERCÍCIO 4\n",
    "\n",
    "Qual é o problema de tentarmos criar uma tabela de frequências para a variável RENDA?"
   ]
  },
  {
   "cell_type": "markdown",
   "metadata": {},
   "source": [
    "ESCREVA SUA RESPOSTA AQUI"
   ]
  },
  {
   "cell_type": "markdown",
   "metadata": {},
   "source": [
    "<div id=\"tabelas-cruzadas-entre-variaveis-qualitativas\"></div>\n",
    "\n",
    "___\n",
    "## Tabelas cruzadas entre variáveis qualitativas\n",
    "\n",
    "Nas tabelas de frequência já vimos quantos clientes aderiram a cada plano e quantos estão em cada grau de satisfação. Mas, lembrando do propósito inicial, a empresa quer estudar o perfil dos clientes de cada plano e, até agora, não adicionamos nenhum conhecimento novo.\n",
    "\n",
    "Vamos mudar isso tentando responder a seguinte pergunta: como a satisfação dos clientes do plano A se compara à dos clientes do plano B?\n",
    "\n",
    "<div id=\"crosstab\"></div>\n",
    "\n",
    "Podemos montar uma tabela cruzada de plano versus satisfação com a função `pd.crosstab`:"
   ]
  },
  {
   "cell_type": "code",
   "execution_count": 21,
   "metadata": {},
   "outputs": [
    {
     "data": {
      "text/html": [
       "<div>\n",
       "<style scoped>\n",
       "    .dataframe tbody tr th:only-of-type {\n",
       "        vertical-align: middle;\n",
       "    }\n",
       "\n",
       "    .dataframe tbody tr th {\n",
       "        vertical-align: top;\n",
       "    }\n",
       "\n",
       "    .dataframe thead th {\n",
       "        text-align: right;\n",
       "    }\n",
       "</style>\n",
       "<table border=\"1\" class=\"dataframe\">\n",
       "  <thead>\n",
       "    <tr style=\"text-align: right;\">\n",
       "      <th>SATISFACAO</th>\n",
       "      <th>Muito Insatisfeito</th>\n",
       "      <th>Insatisfeito</th>\n",
       "      <th>Indiferente</th>\n",
       "      <th>Satisfeito</th>\n",
       "      <th>Muito Satisfeito</th>\n",
       "    </tr>\n",
       "    <tr>\n",
       "      <th>PLANO</th>\n",
       "      <th></th>\n",
       "      <th></th>\n",
       "      <th></th>\n",
       "      <th></th>\n",
       "      <th></th>\n",
       "    </tr>\n",
       "  </thead>\n",
       "  <tbody>\n",
       "    <tr>\n",
       "      <td>A</td>\n",
       "      <td>2</td>\n",
       "      <td>5</td>\n",
       "      <td>7</td>\n",
       "      <td>20</td>\n",
       "      <td>12</td>\n",
       "    </tr>\n",
       "    <tr>\n",
       "      <td>B</td>\n",
       "      <td>6</td>\n",
       "      <td>11</td>\n",
       "      <td>12</td>\n",
       "      <td>7</td>\n",
       "      <td>0</td>\n",
       "    </tr>\n",
       "  </tbody>\n",
       "</table>\n",
       "</div>"
      ],
      "text/plain": [
       "SATISFACAO  Muito Insatisfeito  Insatisfeito  Indiferente  Satisfeito  \\\n",
       "PLANO                                                                   \n",
       "A                            2             5            7          20   \n",
       "B                            6            11           12           7   \n",
       "\n",
       "SATISFACAO  Muito Satisfeito  \n",
       "PLANO                         \n",
       "A                         12  \n",
       "B                          0  "
      ]
     },
     "execution_count": 21,
     "metadata": {},
     "output_type": "execute_result"
    }
   ],
   "source": [
    "pd.crosstab(dados['PLANO'], dados['SATISFACAO'])"
   ]
  },
  {
   "cell_type": "markdown",
   "metadata": {},
   "source": [
    "<div id=\"ex5\"></div>\n",
    "\n",
    "### EXERCÍCIO 5\n",
    "\n",
    "Sabemos que a quantidade de clientes em cada plano na nossa amostra é diferente. Por esse motivo, não podemos comparar os valores absolutos. Procure a documentação da função `pd.crosstab` (busque por \"pandas crosstab\") e crie uma nova tabela cruzada:\n",
    "\n",
    "- Que apresente as frequências relativas ao invés de absolutas para cada plano (ou seja, do total de clientes do plano A, qual é a frequência relativa de muito insatisfeitos, insatisfeitos, etc. e para o plano B?);\n",
    "- Armazene o resultado em uma variável chamada `plano_x_satisfacao` (é importante que você utilize exatamente esse nome para que as próximas células funcionem)."
   ]
  },
  {
   "cell_type": "code",
   "execution_count": 22,
   "metadata": {},
   "outputs": [
    {
     "data": {
      "text/html": [
       "<div>\n",
       "<style scoped>\n",
       "    .dataframe tbody tr th:only-of-type {\n",
       "        vertical-align: middle;\n",
       "    }\n",
       "\n",
       "    .dataframe tbody tr th {\n",
       "        vertical-align: top;\n",
       "    }\n",
       "\n",
       "    .dataframe thead th {\n",
       "        text-align: right;\n",
       "    }\n",
       "</style>\n",
       "<table border=\"1\" class=\"dataframe\">\n",
       "  <thead>\n",
       "    <tr style=\"text-align: right;\">\n",
       "      <th>SATISFACAO</th>\n",
       "      <th>Muito Insatisfeito</th>\n",
       "      <th>Insatisfeito</th>\n",
       "      <th>Indiferente</th>\n",
       "      <th>Satisfeito</th>\n",
       "      <th>Muito Satisfeito</th>\n",
       "    </tr>\n",
       "    <tr>\n",
       "      <th>PLANO</th>\n",
       "      <th></th>\n",
       "      <th></th>\n",
       "      <th></th>\n",
       "      <th></th>\n",
       "      <th></th>\n",
       "    </tr>\n",
       "  </thead>\n",
       "  <tbody>\n",
       "    <tr>\n",
       "      <td>A</td>\n",
       "      <td>0.043478</td>\n",
       "      <td>0.108696</td>\n",
       "      <td>0.152174</td>\n",
       "      <td>0.434783</td>\n",
       "      <td>0.26087</td>\n",
       "    </tr>\n",
       "    <tr>\n",
       "      <td>B</td>\n",
       "      <td>0.166667</td>\n",
       "      <td>0.305556</td>\n",
       "      <td>0.333333</td>\n",
       "      <td>0.194444</td>\n",
       "      <td>0.00000</td>\n",
       "    </tr>\n",
       "  </tbody>\n",
       "</table>\n",
       "</div>"
      ],
      "text/plain": [
       "SATISFACAO  Muito Insatisfeito  Insatisfeito  Indiferente  Satisfeito  \\\n",
       "PLANO                                                                   \n",
       "A                     0.043478      0.108696     0.152174    0.434783   \n",
       "B                     0.166667      0.305556     0.333333    0.194444   \n",
       "\n",
       "SATISFACAO  Muito Satisfeito  \n",
       "PLANO                         \n",
       "A                    0.26087  \n",
       "B                    0.00000  "
      ]
     },
     "execution_count": 22,
     "metadata": {},
     "output_type": "execute_result"
    }
   ],
   "source": [
    "# Coloque seu código aqui\n",
    "plano_x_satisfacao=pd.crosstab(dados['PLANO'],dados['SATISFACAO'],normalize='index')\n",
    "plano_x_satisfacao"
   ]
  },
  {
   "cell_type": "markdown",
   "metadata": {},
   "source": [
    "Pode ser mais interessante visualizar esses dados como porcentagens. Para isso podemos multiplicar todas as frequências por 100 (por isso precisávamos guardar a tabela cruzada na variável `plano_x_satisfacao`):"
   ]
  },
  {
   "cell_type": "code",
   "execution_count": 23,
   "metadata": {},
   "outputs": [
    {
     "data": {
      "text/html": [
       "<div>\n",
       "<style scoped>\n",
       "    .dataframe tbody tr th:only-of-type {\n",
       "        vertical-align: middle;\n",
       "    }\n",
       "\n",
       "    .dataframe tbody tr th {\n",
       "        vertical-align: top;\n",
       "    }\n",
       "\n",
       "    .dataframe thead th {\n",
       "        text-align: right;\n",
       "    }\n",
       "</style>\n",
       "<table border=\"1\" class=\"dataframe\">\n",
       "  <thead>\n",
       "    <tr style=\"text-align: right;\">\n",
       "      <th>SATISFACAO</th>\n",
       "      <th>Muito Insatisfeito</th>\n",
       "      <th>Insatisfeito</th>\n",
       "      <th>Indiferente</th>\n",
       "      <th>Satisfeito</th>\n",
       "      <th>Muito Satisfeito</th>\n",
       "    </tr>\n",
       "    <tr>\n",
       "      <th>PLANO</th>\n",
       "      <th></th>\n",
       "      <th></th>\n",
       "      <th></th>\n",
       "      <th></th>\n",
       "      <th></th>\n",
       "    </tr>\n",
       "  </thead>\n",
       "  <tbody>\n",
       "    <tr>\n",
       "      <td>A</td>\n",
       "      <td>4.347826</td>\n",
       "      <td>10.869565</td>\n",
       "      <td>15.217391</td>\n",
       "      <td>43.478261</td>\n",
       "      <td>26.086957</td>\n",
       "    </tr>\n",
       "    <tr>\n",
       "      <td>B</td>\n",
       "      <td>16.666667</td>\n",
       "      <td>30.555556</td>\n",
       "      <td>33.333333</td>\n",
       "      <td>19.444444</td>\n",
       "      <td>0.000000</td>\n",
       "    </tr>\n",
       "  </tbody>\n",
       "</table>\n",
       "</div>"
      ],
      "text/plain": [
       "SATISFACAO  Muito Insatisfeito  Insatisfeito  Indiferente  Satisfeito  \\\n",
       "PLANO                                                                   \n",
       "A                     4.347826     10.869565    15.217391   43.478261   \n",
       "B                    16.666667     30.555556    33.333333   19.444444   \n",
       "\n",
       "SATISFACAO  Muito Satisfeito  \n",
       "PLANO                         \n",
       "A                  26.086957  \n",
       "B                   0.000000  "
      ]
     },
     "execution_count": 23,
     "metadata": {},
     "output_type": "execute_result"
    }
   ],
   "source": [
    "plano_x_satisfacao_pct = plano_x_satisfacao*100\n",
    "plano_x_satisfacao_pct"
   ]
  },
  {
   "cell_type": "markdown",
   "metadata": {},
   "source": [
    "Para deixar um pouco mais claro, vamos mostrar apenas as primeiras 2 casas decimais:"
   ]
  },
  {
   "cell_type": "code",
   "execution_count": 24,
   "metadata": {},
   "outputs": [
    {
     "name": "stdout",
     "output_type": "stream",
     "text": [
      "Tabela Cruzada por total por PLANO (em %):\n"
     ]
    },
    {
     "data": {
      "text/html": [
       "<div>\n",
       "<style scoped>\n",
       "    .dataframe tbody tr th:only-of-type {\n",
       "        vertical-align: middle;\n",
       "    }\n",
       "\n",
       "    .dataframe tbody tr th {\n",
       "        vertical-align: top;\n",
       "    }\n",
       "\n",
       "    .dataframe thead th {\n",
       "        text-align: right;\n",
       "    }\n",
       "</style>\n",
       "<table border=\"1\" class=\"dataframe\">\n",
       "  <thead>\n",
       "    <tr style=\"text-align: right;\">\n",
       "      <th>SATISFACAO</th>\n",
       "      <th>Muito Insatisfeito</th>\n",
       "      <th>Insatisfeito</th>\n",
       "      <th>Indiferente</th>\n",
       "      <th>Satisfeito</th>\n",
       "      <th>Muito Satisfeito</th>\n",
       "    </tr>\n",
       "    <tr>\n",
       "      <th>PLANO</th>\n",
       "      <th></th>\n",
       "      <th></th>\n",
       "      <th></th>\n",
       "      <th></th>\n",
       "      <th></th>\n",
       "    </tr>\n",
       "  </thead>\n",
       "  <tbody>\n",
       "    <tr>\n",
       "      <td>A</td>\n",
       "      <td>4.35</td>\n",
       "      <td>10.87</td>\n",
       "      <td>15.22</td>\n",
       "      <td>43.48</td>\n",
       "      <td>26.09</td>\n",
       "    </tr>\n",
       "    <tr>\n",
       "      <td>B</td>\n",
       "      <td>16.67</td>\n",
       "      <td>30.56</td>\n",
       "      <td>33.33</td>\n",
       "      <td>19.44</td>\n",
       "      <td>0.00</td>\n",
       "    </tr>\n",
       "  </tbody>\n",
       "</table>\n",
       "</div>"
      ],
      "text/plain": [
       "SATISFACAO  Muito Insatisfeito  Insatisfeito  Indiferente  Satisfeito  \\\n",
       "PLANO                                                                   \n",
       "A                         4.35         10.87        15.22       43.48   \n",
       "B                        16.67         30.56        33.33       19.44   \n",
       "\n",
       "SATISFACAO  Muito Satisfeito  \n",
       "PLANO                         \n",
       "A                      26.09  \n",
       "B                       0.00  "
      ]
     },
     "execution_count": 24,
     "metadata": {},
     "output_type": "execute_result"
    }
   ],
   "source": [
    "plano_x_satisfacao_pct = plano_x_satisfacao_pct.round(decimals=2)\n",
    "print('Tabela Cruzada por total por PLANO (em %):')\n",
    "plano_x_satisfacao_pct"
   ]
  },
  {
   "cell_type": "markdown",
   "metadata": {},
   "source": [
    "<div id=\"ex6\"></div>\n",
    "\n",
    "### EXERCÍCIO 6\n",
    "\n",
    "Discuta a tabela cruzada obtida acima. Quais hipóteses você pode levantar? Por que?"
   ]
  },
  {
   "cell_type": "markdown",
   "metadata": {},
   "source": [
    "O povo está satisfeito com o plano A."
   ]
  },
  {
   "cell_type": "markdown",
   "metadata": {},
   "source": [
    "<div id=\"medidas-resumo\"></div>\n",
    "\n",
    "___\n",
    "\n",
    "## Medidas resumo\n",
    "\n",
    "Ainda não consideramos a variável RENDA em nossa análise. Vimos em aula que é possível obter diversas medidas resumo a partir de variáveis quantitativas. Vamos explorar algumas delas para tentar compreender melhor os nossos dados.\n",
    "\n",
    "<div id=\"ex7\"></div>\n",
    "\n",
    "### EXERCÍCIO 7\n",
    "\n",
    "Antes de começar nossa análise, seria interessante comparar os resultados para cada plano separadamente. Para isso, vamos começar separando nosso `DataFrame` `dados` em dois `DataFrame`s diferentes. Crie quatro variáveis:\n",
    "\n",
    "- `dados_a` contendo somente os dados dos clientes do plano A;\n",
    "- `dados_b` contendo somente os dados dos clientes do plano B;\n",
    "- `renda_a` contendo somente a renda dos clientes do plano A (dica: utilize a variável `dados_a`);\n",
    "- `renda_b` contendo somente a renda dos clientes do plano B (dica: utilize a variável `dados_b`);\n",
    "\n",
    "Qual é o tipo das variáveis `renda_a` e `renda_b`? São do tipo `DataFrame` ou algum outro tipo?"
   ]
  },
  {
   "cell_type": "code",
   "execution_count": 25,
   "metadata": {},
   "outputs": [],
   "source": [
    "# Coloque seu código aqui\n",
    "dados_a = dados.loc[dados['PLANO']=='A',:]\n",
    "dados_b = dados.loc[dados['PLANO']=='B',:]\n",
    "renda_a = dados_a['RENDA']\n",
    "renda_b = dados_b['RENDA']"
   ]
  },
  {
   "cell_type": "markdown",
   "metadata": {},
   "source": [
    "<div id=\"ex8\"></div>\n",
    "\n",
    "### EXERCÍCIO 8\n",
    "\n",
    "<div id=\"mean-median-etc\"></div>\n",
    "\n",
    "O pandas disponibiliza diversas funções para o cálculo de medidas resumo. Alguns exemplos são: `mean`, `median`, `quantile`, `var`, `std`. Os nomes das funções dão uma boa dica do que elas fazem, mas, como sempre, é bom verificar a documentação do pandas para garantir que elas fazem o que você espera.\n",
    "\n",
    "Imprima a média, o primeiro, segundo (mediana) e terceiro quartis e o desvio padrão das rendas do clientes do plano A e B, separadamente."
   ]
  },
  {
   "cell_type": "code",
   "execution_count": 36,
   "metadata": {},
   "outputs": [
    {
     "name": "stdout",
     "output_type": "stream",
     "text": [
      "10.421739130434778\n",
      "10.350000000000001\n",
      "10.350000000000001\n",
      "4.465567677909532\n",
      "5.688888888888889\n",
      "5.15\n",
      "5.15\n",
      "3.2934374381078135\n"
     ]
    }
   ],
   "source": [
    "# Coloque seu código aqui\n",
    "print(renda_a.mean())\n",
    "print(renda_a.median())\n",
    "print(renda_a.quantile())\n",
    "print(renda_a.std())\n",
    "print(renda_b.mean())\n",
    "print(renda_b.median())\n",
    "print(renda_b.quantile())\n",
    "print(renda_b.std())\n"
   ]
  },
  {
   "cell_type": "markdown",
   "metadata": {},
   "source": [
    "<div id=\"ex9\"></div>\n",
    "\n",
    "### EXERCÍCIO 9\n",
    "\n",
    "<div id=\"describe\"></div>\n",
    "\n",
    "Uma função bastante útil para a análise exploratória é `.describe()`. Utilize a função `.describe()` com as rendas dos planos A e B e compare os resultados com os obtidos na célula anterior."
   ]
  },
  {
   "cell_type": "code",
   "execution_count": 42,
   "metadata": {},
   "outputs": [
    {
     "name": "stdout",
     "output_type": "stream",
     "text": [
      "count    46.000000\n",
      "mean     10.421739\n",
      "std       4.465568\n",
      "min       0.700000\n",
      "25%       7.475000\n",
      "50%      10.350000\n",
      "75%      13.200000\n",
      "max      21.400000\n",
      "Name: RENDA, dtype: float64\n",
      "\n",
      "count    36.000000\n",
      "mean      5.688889\n",
      "std       3.293437\n",
      "min       0.600000\n",
      "25%       4.150000\n",
      "50%       5.150000\n",
      "75%       6.375000\n",
      "max      19.200000\n",
      "Name: RENDA, dtype: float64\n"
     ]
    }
   ],
   "source": [
    "# Coloque seu código aqui\n",
    "print(renda_a.describe())\n",
    "print('')\n",
    "print(renda_b.describe())"
   ]
  },
  {
   "cell_type": "markdown",
   "metadata": {},
   "source": [
    "<div id=\"ex10\"></div>\n",
    "\n",
    "### EXERCÍCIO 10\n",
    "\n",
    "Quais hipóteses você pode formular a partir das medidas resumo da renda dos clientes dos dois planos?"
   ]
  },
  {
   "cell_type": "markdown",
   "metadata": {},
   "source": [
    "Os clientes do plano A possuem maior renda, em média do que os do plano B.\n"
   ]
  },
  {
   "cell_type": "markdown",
   "metadata": {},
   "source": [
    "<div id=\"ex11\"></div>\n",
    "\n",
    "### EXERCÍCIO 11\n",
    "\n",
    "Se tentarmos executar o comando\n",
    "\n",
    "    dados['EC'].mean()\n",
    "    \n",
    "vamos obter um erro. Por quê?"
   ]
  },
  {
   "cell_type": "markdown",
   "metadata": {},
   "source": [
    "Porque não é uma variável quantitativa, mas sim qualitativa( categórica)"
   ]
  },
  {
   "cell_type": "markdown",
   "metadata": {},
   "source": [
    "<div id=\"comandos\"></div>\n",
    "\n",
    "___\n",
    "\n",
    "## Lista de comandos utilizados neste notebook\n",
    "\n",
    "Os seguintes comandos foram utilizados neste jupyter notebook. Para facilitar sua consulta, escreva um resumo do que cada um deles faz:\n",
    "\n",
    "- [`.astype`](#astype): Ela define o tipo de variavel que vai ser\n",
    "- [`.cat.categories`](#categories): Ela verifica se as variaveis são categóricas\n",
    "- [`.cat.ordered`](#ordered): Ela verifica se as variáveis são ordenadas.\n",
    "- [`.value_counts`](#value_counts): Ela retorna a frequência de valores de uma série.\n",
    "- [`pd.crosstab`](#crosstab): Ela combina séries diferentes.\n",
    "- [`.mean`](#mean-median-etc): Retorna a média aritmética de uma série\n",
    "- [`.median`](#mean-median-etc): Retorna a mediana de uma série.\n",
    "- [`.quantile`](#mean-median-etc): Retorna o quantil de uma série.\n",
    "- [`.var`](#mean-median-etc): Retorna a variância de uma série.\n",
    "- [`.std`](#mean-median-etc): Retorna o desvio-padrão de uma série.\n",
    "- [`.describe`](#describe): Descreve algumas características estatísticas de uma série."
   ]
  },
  {
   "cell_type": "code",
   "execution_count": null,
   "metadata": {},
   "outputs": [],
   "source": []
  }
 ],
 "metadata": {
  "kernelspec": {
   "display_name": "Python 3",
   "language": "python",
   "name": "python3"
  },
  "language_info": {
   "codemirror_mode": {
    "name": "ipython",
    "version": 3
   },
   "file_extension": ".py",
   "mimetype": "text/x-python",
   "name": "python",
   "nbconvert_exporter": "python",
   "pygments_lexer": "ipython3",
   "version": "3.7.4"
  }
 },
 "nbformat": 4,
 "nbformat_minor": 4
}
